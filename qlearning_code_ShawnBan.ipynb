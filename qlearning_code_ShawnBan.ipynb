{
 "cells": [
  {
   "cell_type": "markdown",
   "metadata": {},
   "source": [
    "## INM426: Software Agents: Implementing Q-learning for Table Football\n",
    "This notebook implements a Q-learning algorithm for a table football game. First we do a single walkthrough example, then run a couple of experiments."
   ]
  },
  {
   "cell_type": "code",
   "execution_count": 1,
   "metadata": {
    "collapsed": true
   },
   "outputs": [],
   "source": [
    "import numpy as np\n",
    "%matplotlib inline\n",
    "import matplotlib.pyplot as plt\n",
    "import math"
   ]
  },
  {
   "cell_type": "markdown",
   "metadata": {},
   "source": [
    "We first initialize the rewards matrix R, and a Q matrix of zeroes with same dimensionality as R. For now, we use negative infinity to denote null states and we'll write a conditional statement later to prevent these states from being accessed. "
   ]
  },
  {
   "cell_type": "code",
   "execution_count": 2,
   "metadata": {
    "collapsed": true
   },
   "outputs": [],
   "source": [
    "# defines the reward/connection graph\n",
    "x = -math.inf\n",
    "R1 = np.array([[x, -5, -5, x, x, x, x, x, x, x, x, 10],\n",
    "              [x, x, x, -5, -5, -5, -5, -20, x, x, x, 25],\n",
    "              [x, x, x, -20, -5, -5, -5, -5, x, x, x, 25],\n",
    "              [x, x, x, x, x, x, x, x, -5, -5, -10, 50],\n",
    "              [x, x, x, x, x, x, x, x, -5, -5, -5, 50],\n",
    "              [x, x, x, x, x, x, x, x, -5, -5, -5, 50],\n",
    "              [x, x, x, x, x, x, x, x, -5, -5, -5, 50],\n",
    "              [x, x, x, x, x, x, x, x, -10, -5, -5, 50],\n",
    "              [x, x, x, x, x, x, x, x, x, x, x, 75],\n",
    "              [x, x, x, x, x, x, x, x, x, x, x, 100],\n",
    "              [x, x, x, x, x, x, x, x, x, x, x, 75],\n",
    "              [x, x, x, x, x, x, x, x, x, x, x, 0]]).astype(\"float32\")\n",
    "R = R1\n",
    "Q = np.zeros_like(R)"
   ]
  },
  {
   "cell_type": "markdown",
   "metadata": {},
   "source": [
    "Next we initialize our learning policy parameters epsilon and lambda, and our Q-learning parameters, alpha and gamma, and also the number of training episodes."
   ]
  },
  {
   "cell_type": "code",
   "execution_count": 3,
   "metadata": {
    "collapsed": true
   },
   "outputs": [],
   "source": [
    "eps = 0.99\n",
    "lamb = 0.001\n",
    "alpha = 0.7\n",
    "gamma = 0.3\n",
    "episodes = 500"
   ]
  },
  {
   "cell_type": "markdown",
   "metadata": {},
   "source": [
    "Randomly initialize a state and implement epsilon-greedy policy:"
   ]
  },
  {
   "cell_type": "code",
   "execution_count": 4,
   "metadata": {},
   "outputs": [
    {
     "name": "stdout",
     "output_type": "stream",
     "text": [
      "Initial state is 0\n",
      "Possible actions are  [1, 2, 11]\n",
      "0.22387295809219598\n",
      "Action is Explore!\n",
      "Move to state 11\n"
     ]
    }
   ],
   "source": [
    "state = np.random.randint(12) # Start with a random state from 0 to 11.\n",
    "print(\"Initial state is\", state)\n",
    "print(\"Possible actions are \", [num for num in range(12) if R[state, num] > -100])\n",
    "p = np.random.uniform() # Random number from 0 to 1. \n",
    "print(p)\n",
    "if eps > p:\n",
    "    print('Action is Explore!')\n",
    "    action = np.random.choice([num for num in range(12) if R[state, num] > -100])\n",
    "else:\n",
    "    print('Action is Exploit!')\n",
    "    mask = (R[state, :] > -100) # A neat masking trick that allows np.argmax to use conditionals!\n",
    "    subset_idx = np.argmax(Q[state, :][mask]) \n",
    "    action = np.arange(Q.shape[0])[mask][subset_idx]\n",
    "print(\"Move to state\", action)"
   ]
  },
  {
   "cell_type": "markdown",
   "metadata": {},
   "source": [
    "Update the Q-matrix:"
   ]
  },
  {
   "cell_type": "code",
   "execution_count": 5,
   "metadata": {},
   "outputs": [
    {
     "name": "stdout",
     "output_type": "stream",
     "text": [
      "[[ 0.  0.  0.  0.  0.  0.  0.  0.  0.  0.  0.  7.]\n",
      " [ 0.  0.  0.  0.  0.  0.  0.  0.  0.  0.  0.  0.]\n",
      " [ 0.  0.  0.  0.  0.  0.  0.  0.  0.  0.  0.  0.]\n",
      " [ 0.  0.  0.  0.  0.  0.  0.  0.  0.  0.  0.  0.]\n",
      " [ 0.  0.  0.  0.  0.  0.  0.  0.  0.  0.  0.  0.]\n",
      " [ 0.  0.  0.  0.  0.  0.  0.  0.  0.  0.  0.  0.]\n",
      " [ 0.  0.  0.  0.  0.  0.  0.  0.  0.  0.  0.  0.]\n",
      " [ 0.  0.  0.  0.  0.  0.  0.  0.  0.  0.  0.  0.]\n",
      " [ 0.  0.  0.  0.  0.  0.  0.  0.  0.  0.  0.  0.]\n",
      " [ 0.  0.  0.  0.  0.  0.  0.  0.  0.  0.  0.  0.]\n",
      " [ 0.  0.  0.  0.  0.  0.  0.  0.  0.  0.  0.  0.]\n",
      " [ 0.  0.  0.  0.  0.  0.  0.  0.  0.  0.  0.  0.]]\n"
     ]
    }
   ],
   "source": [
    "next_state = action\n",
    "Q[state, action] += alpha* (R[state, action] + gamma * np.max(Q[next_state, :]) - Q[state, action])\n",
    "print(Q)"
   ]
  },
  {
   "cell_type": "markdown",
   "metadata": {},
   "source": [
    "Update epsilon for the next learning episode:"
   ]
  },
  {
   "cell_type": "code",
   "execution_count": 6,
   "metadata": {
    "collapsed": true
   },
   "outputs": [],
   "source": [
    "eps = eps * (1 - lamb)"
   ]
  },
  {
   "cell_type": "markdown",
   "metadata": {},
   "source": [
    "### Now run some experiments!\n",
    "That completes a single pass! For the entire Q-learning algorithm, we run the above steps for N = number of episodes. First we put all the steps together in a single function to make it easier to change parameters and iterate."
   ]
  },
  {
   "cell_type": "code",
   "execution_count": 7,
   "metadata": {
    "collapsed": true
   },
   "outputs": [],
   "source": [
    "def calculateQ(eps, lamb, alpha, gamma, episodes):\n",
    "    Q = np.zeros_like(R) # Resets the Q-matrix\n",
    "    scores = []\n",
    "    cumulative_reward = 0\n",
    "    step = 0\n",
    "    for epi in range(episodes):\n",
    "        state = np.random.randint(12) # Start with a random state from 0 to 11.\n",
    "        while(True):\n",
    "            p = np.random.uniform() # Random number from 0 to 1. \n",
    "            if eps > p:\n",
    "                #Explore:\n",
    "                action = np.random.choice([num for num in range(12) if R[state, num] > -100])\n",
    "            else:\n",
    "                #Exploit:\n",
    "                mask = (R[state, :] > -100) # A neat masking trick that allows np.argmax to use conditionals!\n",
    "                subset_idx = np.argmax(Q[state, :][mask]) \n",
    "                action = np.arange(Q.shape[0])[mask][subset_idx]\n",
    "            next_state = action\n",
    "            Q[state, action] += alpha* (R[state, action] + gamma * np.max(Q[next_state, :]) - Q[state, action])\n",
    "            cumulative_reward += R[state,action]\n",
    "            step += 1\n",
    "            eps = eps * (1 - lamb)\n",
    "            if state == 11:\n",
    "                score = cumulative_reward/step\n",
    "                scores.append(score)\n",
    "                break\n",
    "            state = next_state   \n",
    "    Q = np.array([round(num) for li in Q for num in li])\n",
    "    Q = Q.reshape((12,12))\n",
    "    return Q, scores"
   ]
  },
  {
   "cell_type": "code",
   "execution_count": 8,
   "metadata": {},
   "outputs": [
    {
     "name": "stdout",
     "output_type": "stream",
     "text": [
      "[[   0.   23.   23.    0.    0.    0.    0.    0.    0.    0.    0.   10.]\n",
      " [   0.    0.    0.   39.   38.   40.   40.   25.    0.    0.    0.   25.]\n",
      " [   0.    0.    0.   24.   40.   40.   40.   28.    0.    0.    0.   24.]\n",
      " [   0.    0.    0.    0.    0.    0.    0.    0.   47.   65.   40.   49.]\n",
      " [   0.    0.    0.    0.    0.    0.    0.    0.   47.   65.   47.   47.]\n",
      " [   0.    0.    0.    0.    0.    0.    0.    0.   47.   65.   47.   48.]\n",
      " [   0.    0.    0.    0.    0.    0.    0.    0.   47.   65.   47.   50.]\n",
      " [   0.    0.    0.    0.    0.    0.    0.    0.   42.   65.   47.   50.]\n",
      " [   0.    0.    0.    0.    0.    0.    0.    0.    0.    0.    0.   75.]\n",
      " [   0.    0.    0.    0.    0.    0.    0.    0.    0.    0.    0.  100.]\n",
      " [   0.    0.    0.    0.    0.    0.    0.    0.    0.    0.    0.   75.]\n",
      " [   0.    0.    0.    0.    0.    0.    0.    0.    0.    0.    0.    0.]]\n"
     ]
    }
   ],
   "source": [
    "myQ, myScores = calculateQ(eps=0.9, lamb=0.001, alpha=0.5, gamma=0.7, episodes=3000)\n",
    "print(myQ)"
   ]
  },
  {
   "cell_type": "code",
   "execution_count": 9,
   "metadata": {},
   "outputs": [
    {
     "data": {
      "image/png": "[encoded data removed]",
      "text/plain": [
       "<matplotlib.figure.Figure at 0x10f00b2b0>"
      ]
     },
     "metadata": {},
     "output_type": "display_data"
    }
   ],
   "source": [
    "plt.plot(myScores)\n",
    "plt.xlabel('Episodes')\n",
    "plt.ylabel('Cumulative reward/steps')\n",
    "plt.show()"
   ]
  },
  {
   "cell_type": "markdown",
   "metadata": {},
   "source": [
    "The following cells print out what the agent has learned are the optimal paths from each starting point. The code for displaying the paths was written by Anshumaan Parashar and used here with permission. The original version of these functions is available at https://github.com/Wert1996/Painless-Q-Learning/blob/master/printOptimalPaths.py "
   ]
  },
  {
   "cell_type": "code",
   "execution_count": 10,
   "metadata": {
    "collapsed": true
   },
   "outputs": [],
   "source": [
    "def calculatePaths(Q):\n",
    "    paths = []\n",
    "    maxInd = np.argmax(Q, axis = 1)\n",
    "    for i in range(12):\n",
    "        curPath = []\n",
    "        curPath.append(str(i))\n",
    "        current = i\n",
    "        while(current != 11):\n",
    "            current = maxInd[current]\n",
    "            curPath.append(str(current))\n",
    "        paths.append(\"->\".join(curPath))\n",
    "    return paths"
   ]
  },
  {
   "cell_type": "code",
   "execution_count": 11,
   "metadata": {},
   "outputs": [
    {
     "name": "stdout",
     "output_type": "stream",
     "text": [
      "0->1->5->9->11\n",
      "1->5->9->11\n",
      "2->4->9->11\n",
      "3->9->11\n",
      "4->9->11\n",
      "5->9->11\n",
      "6->9->11\n",
      "7->9->11\n",
      "8->11\n",
      "9->11\n",
      "10->11\n",
      "11\n"
     ]
    }
   ],
   "source": [
    "paths = calculatePaths(myQ)\n",
    "for start_spot in range(12):\n",
    "    print(paths[start_spot])"
   ]
  },
  {
   "cell_type": "markdown",
   "metadata": {},
   "source": [
    "### Experiments with different parameters - no early stopping\n",
    "\n",
    "Case 0 (base case): eps=0.9, lamb=0.001, alpha=0.5, gamma=0.7\n",
    "\n",
    "Case 1 (high epsilon, explore over exploit): eps=0.999, lamb=0.001, alpha=0.5, gamma=0.7\n",
    "\n",
    "Case 2 (low epsilon, favours exploit over explore): eps=0.001, lamb=0.001, alpha=0.5, gamma=0.7\n",
    "\n",
    "Case 3 (high alpha, update with full value of future rewards): eps=0.9, lamb=0.001, alpha=0.999, gamma=0.7\n",
    "\n",
    "Case 4 (low alpha, learn slowly): eps=0.9, lamb=0.001, alpha=0.001, gamma=0.7\n",
    "\n",
    "Case 5 (high gamma, favour future rewards): eps=0.9, lamb=0.001, alpha=0.5, gamma=0.999\n",
    "\n",
    "Case 6 (low gamma, discount future rewards): eps=0.9, lamb=0.001, alpha=0.5, gamma=0.001"
   ]
  },
  {
   "cell_type": "code",
   "execution_count": 12,
   "metadata": {},
   "outputs": [
    {
     "data": {
      "image/png": "[encoded data removed]",
      "text/plain": [
       "<matplotlib.figure.Figure at 0x114043160>"
      ]
     },
     "metadata": {},
     "output_type": "display_data"
    },
    {
     "name": "stdout",
     "output_type": "stream",
     "text": [
      "0->1->5->9->11\n",
      "1->5->9->11\n",
      "2->5->9->11\n",
      "3->9->11\n",
      "4->9->11\n",
      "5->9->11\n",
      "6->9->11\n",
      "7->9->11\n",
      "8->11\n",
      "9->11\n",
      "10->11\n",
      "11\n"
     ]
    }
   ],
   "source": [
    "#Case 0\n",
    "myQ, myScores = calculateQ(eps=0.9, lamb=0.001, alpha=0.5, gamma=0.7, episodes=3000)\n",
    "plt.plot(myScores)\n",
    "plt.title('eps=0.9, lamb=0.001, alpha=0.5, gamma=0.7')\n",
    "plt.xlabel('Episodes')\n",
    "plt.ylabel('Cumulative reward/steps')\n",
    "plt.ylim(20,30)\n",
    "plt.show()\n",
    "paths = calculatePaths(myQ)\n",
    "for start_spot in range(12):\n",
    "    print(paths[start_spot])"
   ]
  },
  {
   "cell_type": "code",
   "execution_count": 13,
   "metadata": {},
   "outputs": [
    {
     "data": {
      "image/png": "[encoded data removed]",
      "text/plain": [
       "<matplotlib.figure.Figure at 0x1172ec588>"
      ]
     },
     "metadata": {},
     "output_type": "display_data"
    },
    {
     "name": "stdout",
     "output_type": "stream",
     "text": [
      "0->1->3->9->11\n",
      "1->3->9->11\n",
      "2->6->9->11\n",
      "3->9->11\n",
      "4->9->11\n",
      "5->9->11\n",
      "6->9->11\n",
      "7->9->11\n",
      "8->11\n",
      "9->11\n",
      "10->11\n",
      "11\n"
     ]
    }
   ],
   "source": [
    "#Case 1\n",
    "myQ, myScores = calculateQ(eps=0.999, lamb=0.001, alpha=0.5, gamma=0.7, episodes=3000)\n",
    "plt.plot(myScores)\n",
    "plt.title('eps=0.999, lamb=0.001, alpha=0.5, gamma=0.7')\n",
    "plt.xlabel('Episodes')\n",
    "plt.ylabel('Cumulative reward/steps')\n",
    "plt.ylim(20,30)\n",
    "plt.show()\n",
    "paths = calculatePaths(myQ)\n",
    "for start_spot in range(12):\n",
    "    print(paths[start_spot])"
   ]
  },
  {
   "cell_type": "code",
   "execution_count": 14,
   "metadata": {},
   "outputs": [
    {
     "data": {
      "image/png": "[encoded data removed]",
      "text/plain": [
       "<matplotlib.figure.Figure at 0x117307588>"
      ]
     },
     "metadata": {},
     "output_type": "display_data"
    },
    {
     "name": "stdout",
     "output_type": "stream",
     "text": [
      "0->11\n",
      "1->4->8->11\n",
      "2->3->8->11\n",
      "3->8->11\n",
      "4->8->11\n",
      "5->8->11\n",
      "6->9->11\n",
      "7->8->11\n",
      "8->11\n",
      "9->11\n",
      "10->11\n",
      "11\n"
     ]
    }
   ],
   "source": [
    "#Case 2\n",
    "myQ, myScores = calculateQ(eps=0.001, lamb=0.001, alpha=0.5, gamma=0.7, episodes=3000)\n",
    "plt.plot(myScores)\n",
    "plt.title('eps=0.001, lamb=0.001, alpha=0.5, gamma=0.7')\n",
    "plt.xlabel('Episodes')\n",
    "plt.ylabel('Cumulative reward/steps')\n",
    "plt.ylim(20,30)\n",
    "plt.show()\n",
    "paths = calculatePaths(myQ)\n",
    "for start_spot in range(12):\n",
    "    print(paths[start_spot])"
   ]
  },
  {
   "cell_type": "code",
   "execution_count": 15,
   "metadata": {},
   "outputs": [
    {
     "data": {
      "image/png": "[encoded data removed]",
      "text/plain": [
       "<matplotlib.figure.Figure at 0x11743b0b8>"
      ]
     },
     "metadata": {},
     "output_type": "display_data"
    },
    {
     "name": "stdout",
     "output_type": "stream",
     "text": [
      "0->1->3->9->11\n",
      "1->3->9->11\n",
      "2->4->9->11\n",
      "3->9->11\n",
      "4->9->11\n",
      "5->9->11\n",
      "6->9->11\n",
      "7->9->11\n",
      "8->11\n",
      "9->11\n",
      "10->11\n",
      "11\n"
     ]
    }
   ],
   "source": [
    "#Case 3\n",
    "myQ, myScores = calculateQ(eps=0.9, lamb=0.001, alpha=0.999, gamma=0.7, episodes=3000)\n",
    "plt.plot(myScores)\n",
    "plt.title('eps=0.9, lamb=0.001, alpha=0.999, gamma=0.7')\n",
    "plt.xlabel('Episodes')\n",
    "plt.ylabel('Cumulative reward/steps')\n",
    "plt.ylim(20,30)\n",
    "plt.show()\n",
    "paths = calculatePaths(myQ)\n",
    "for start_spot in range(12):\n",
    "    print(paths[start_spot])"
   ]
  },
  {
   "cell_type": "code",
   "execution_count": 16,
   "metadata": {},
   "outputs": [
    {
     "data": {
      "image/png": "[encoded data removed]",
      "text/plain": [
       "<matplotlib.figure.Figure at 0x1175ea550>"
      ]
     },
     "metadata": {},
     "output_type": "display_data"
    },
    {
     "name": "stdout",
     "output_type": "stream",
     "text": [
      "0->11\n",
      "1->11\n",
      "2->11\n",
      "3->11\n",
      "4->11\n",
      "5->11\n",
      "6->11\n",
      "7->11\n",
      "8->11\n",
      "9->11\n",
      "10->11\n",
      "11\n"
     ]
    }
   ],
   "source": [
    "#Case 4\n",
    "myQ, myScores = calculateQ(eps=0.9, lamb=0.001, alpha=0.001, gamma=0.7, episodes=3000)\n",
    "plt.plot(myScores)\n",
    "plt.title('eps=0.9, lamb=0.001, alpha=0.001, gamma=0.7')\n",
    "plt.xlabel('Episodes')\n",
    "plt.ylabel('Cumulative reward/steps')\n",
    "plt.ylim(20,30)\n",
    "plt.show()\n",
    "paths = calculatePaths(myQ)\n",
    "for start_spot in range(12):\n",
    "    print(paths[start_spot])"
   ]
  },
  {
   "cell_type": "code",
   "execution_count": 17,
   "metadata": {},
   "outputs": [
    {
     "data": {
      "image/png": "[encoded data removed]",
      "text/plain": [
       "<matplotlib.figure.Figure at 0x1176acac8>"
      ]
     },
     "metadata": {},
     "output_type": "display_data"
    },
    {
     "name": "stdout",
     "output_type": "stream",
     "text": [
      "0->2->6->9->11\n",
      "1->4->9->11\n",
      "2->6->9->11\n",
      "3->9->11\n",
      "4->9->11\n",
      "5->9->11\n",
      "6->9->11\n",
      "7->9->11\n",
      "8->11\n",
      "9->11\n",
      "10->11\n",
      "11\n"
     ]
    }
   ],
   "source": [
    "#Case 5\n",
    "myQ, myScores = calculateQ(eps=0.9, lamb=0.001, alpha=0.5, gamma=0.999, episodes=3000)\n",
    "plt.plot(myScores)\n",
    "plt.title('eps=0.9, lamb=0.001, alpha=0.5, gamma=0.999')\n",
    "plt.xlabel('Episodes')\n",
    "plt.ylabel('Cumulative reward/steps')\n",
    "plt.ylim(20,30)\n",
    "plt.show()\n",
    "paths = calculatePaths(myQ)\n",
    "for start_spot in range(12):\n",
    "    print(paths[start_spot])"
   ]
  },
  {
   "cell_type": "code",
   "execution_count": 18,
   "metadata": {},
   "outputs": [
    {
     "data": {
      "image/png": "[encoded data removed]",
      "text/plain": [
       "<matplotlib.figure.Figure at 0x117625f28>"
      ]
     },
     "metadata": {},
     "output_type": "display_data"
    },
    {
     "name": "stdout",
     "output_type": "stream",
     "text": [
      "0->11\n",
      "1->11\n",
      "2->11\n",
      "3->11\n",
      "4->11\n",
      "5->11\n",
      "6->11\n",
      "7->11\n",
      "8->11\n",
      "9->11\n",
      "10->11\n",
      "11\n"
     ]
    }
   ],
   "source": [
    "#Case 6\n",
    "myQ, myScores = calculateQ(eps=0.9, lamb=0.001, alpha=0.5, gamma=0.001, episodes=3000)\n",
    "plt.plot(myScores)\n",
    "plt.title('eps=0.9, lamb=0.001, alpha=0.5, gamma=0.001')\n",
    "plt.xlabel('Episodes')\n",
    "plt.ylabel('Cumulative reward/steps')\n",
    "plt.show()\n",
    "paths = calculatePaths(myQ)\n",
    "for start_spot in range(12):\n",
    "    print(paths[start_spot])"
   ]
  },
  {
   "cell_type": "markdown",
   "metadata": {},
   "source": [
    "### Further experiments - new rewards matrix"
   ]
  },
  {
   "cell_type": "code",
   "execution_count": 19,
   "metadata": {
    "collapsed": true
   },
   "outputs": [],
   "source": [
    "R2 = np.array([[0, -5, -5, -10, -10, -10, -10, -10, -20, -20, -20, 10],\n",
    "              [-50, 0, -5, -5, -5, -5, -5, -20, -20, -20, -20, 25],\n",
    "              [-50, -5, 0, -20, -5, -5, -5, -5, -20, -20, -20, 25],\n",
    "              [-50, -5, -20, 0, -5, -5, -5, -5, -5, -5, -10, 50],\n",
    "              [-50, -5, -5, -5, 0, -5, -5, -5, -5, -5, -5, 50],\n",
    "              [-50, -5, -5, -5, -5, 0, -5, -5, -5, -5, -5, 50],\n",
    "              [-50, -5, -5, -5, -5, -5, 0, -5, -5, -5, -5, 50],\n",
    "              [-50, -20, -5, -5, -5, -5, -5, 0, -10, -5, -5, 50],\n",
    "              [-50, -20, -20, -5, -5, -5, -5, -10, 0, -5, -5, 75],\n",
    "              [-50, -20, -20, -5, -5, -5, -5, -5, -5, 0, -5, 100],\n",
    "              [-50, -20, -20, -10, -5, -5, -5, -5, -5, -5, 0, 75],\n",
    "              [x, x, x, x, x, x, x, x, x, x, x, 0]]).astype(\"float32\")\n",
    "R = R2"
   ]
  },
  {
   "cell_type": "code",
   "execution_count": 20,
   "metadata": {},
   "outputs": [
    {
     "data": {
      "image/png": "[encoded data removed]",
      "text/plain": [
       "<matplotlib.figure.Figure at 0x1176b2f28>"
      ]
     },
     "metadata": {},
     "output_type": "display_data"
    },
    {
     "name": "stdout",
     "output_type": "stream",
     "text": [
      "0->9->11\n",
      "1->9->11\n",
      "2->9->11\n",
      "3->11\n",
      "4->9->11\n",
      "5->9->11\n",
      "6->11\n",
      "7->9->11\n",
      "8->11\n",
      "9->11\n",
      "10->11\n",
      "11\n"
     ]
    }
   ],
   "source": [
    "#Case 7\n",
    "myQ, myScores = calculateQ(eps=0.9, lamb=0.001, alpha=0.5, gamma=0.7, episodes=3000)\n",
    "plt.plot(myScores)\n",
    "plt.title('eps=0.9, lamb=0.001, alpha=0.5, gamma=0.7, new reward function')\n",
    "plt.xlabel('Episodes')\n",
    "plt.ylabel('Cumulative reward/steps')\n",
    "plt.show()\n",
    "paths = calculatePaths(myQ)\n",
    "for start_spot in range(12):\n",
    "    print(paths[start_spot])"
   ]
  },
  {
   "cell_type": "markdown",
   "metadata": {},
   "source": [
    "### Experiments with early stopping\n",
    "\n",
    "Uses variance of performance of last 10 episodes as a stopping criterion. Run each case above 10 times, and report the mean and standard deviation of the number of episodes for convergence, and mean and standard deviation of the performance."
   ]
  },
  {
   "cell_type": "code",
   "execution_count": 21,
   "metadata": {
    "collapsed": true
   },
   "outputs": [],
   "source": [
    "#Reset R-matrix:\n",
    "R = R1"
   ]
  },
  {
   "cell_type": "code",
   "execution_count": 22,
   "metadata": {
    "collapsed": true
   },
   "outputs": [],
   "source": [
    "def calculateQ_earlystop(eps, lamb, alpha, gamma):\n",
    "    Q = np.zeros_like(R) # Resets the Q-matrix\n",
    "    scores = list(range(1,11))\n",
    "    cumulative_reward = 0\n",
    "    step = 0\n",
    "    while np.var(scores[-11:-1]) > 0.00001:    \n",
    "        state = np.random.randint(12) # Start with a random state from 0 to 11.\n",
    "        while(True):\n",
    "            p = np.random.uniform() # Random number from 0 to 1. \n",
    "            if eps > p:\n",
    "                #Explore:\n",
    "                action = np.random.choice([num for num in range(12) if R[state, num] > -100])\n",
    "            else:\n",
    "                #Exploit:\n",
    "                mask = (R[state, :] > -100) # A neat masking trick that allows np.argmax to use conditionals!\n",
    "                subset_idx = np.argmax(Q[state, :][mask]) \n",
    "                action = np.arange(Q.shape[0])[mask][subset_idx]\n",
    "            next_state = action\n",
    "            Q[state, action] += alpha* (R[state, action] + gamma * np.max(Q[next_state, :]) - Q[state, action])\n",
    "            cumulative_reward += R[state,action]\n",
    "            step += 1\n",
    "            eps = eps * (1 - lamb)\n",
    "            if state == 11:\n",
    "                score = cumulative_reward/step\n",
    "                scores.append(score)\n",
    "                break\n",
    "            state = next_state\n",
    "    Q = np.array([round(num) for li in Q for num in li])\n",
    "    Q = Q.reshape((12,12))\n",
    "    del scores[:10]\n",
    "    return scores"
   ]
  },
  {
   "cell_type": "code",
   "execution_count": 23,
   "metadata": {},
   "outputs": [
    {
     "name": "stdout",
     "output_type": "stream",
     "text": [
      "1454.2\n",
      "171.891128334\n",
      "27.3035125826\n",
      "0.328506715459\n"
     ]
    }
   ],
   "source": [
    "#Case 0\n",
    "episodes_to_converge = []\n",
    "performance = []\n",
    "for k in range(10):\n",
    "    myScores = calculateQ_earlystop(eps=0.9, lamb=0.001, alpha=0.5, gamma=0.7)\n",
    "    episodes_to_converge.append(len(myScores))\n",
    "    performance.append(myScores[-1])\n",
    "\n",
    "print(np.mean(episodes_to_converge))\n",
    "print(np.std(episodes_to_converge))\n",
    "print(np.mean(performance))\n",
    "print(np.std(performance))"
   ]
  },
  {
   "cell_type": "code",
   "execution_count": 24,
   "metadata": {},
   "outputs": [
    {
     "name": "stdout",
     "output_type": "stream",
     "text": [
      "1385.9\n",
      "130.290790158\n",
      "27.0746911161\n",
      "0.261628578964\n"
     ]
    }
   ],
   "source": [
    "#Case 1\n",
    "episodes_to_converge = []\n",
    "performance = []\n",
    "for k in range(10):\n",
    "    myScores = calculateQ_earlystop(eps=0.999, lamb=0.001, alpha=0.5, gamma=0.7)\n",
    "    episodes_to_converge.append(len(myScores))\n",
    "    performance.append(myScores[-1])\n",
    "    \n",
    "print(np.mean(episodes_to_converge))\n",
    "print(np.std(episodes_to_converge))\n",
    "print(np.mean(performance))\n",
    "print(np.std(performance))"
   ]
  },
  {
   "cell_type": "code",
   "execution_count": 25,
   "metadata": {},
   "outputs": [
    {
     "name": "stdout",
     "output_type": "stream",
     "text": [
      "1421.1\n",
      "250.142139593\n",
      "22.9449357801\n",
      "0.718858908137\n"
     ]
    }
   ],
   "source": [
    "#Case 2\n",
    "episodes_to_converge = []\n",
    "performance = []\n",
    "for k in range(10):\n",
    "    myScores = calculateQ_earlystop(eps=0.001, lamb=0.001, alpha=0.5, gamma=0.7)\n",
    "    episodes_to_converge.append(len(myScores))\n",
    "    performance.append(myScores[-1])\n",
    "    \n",
    "print(np.mean(episodes_to_converge))\n",
    "print(np.std(episodes_to_converge))\n",
    "print(np.mean(performance))\n",
    "print(np.std(performance))"
   ]
  },
  {
   "cell_type": "code",
   "execution_count": 26,
   "metadata": {},
   "outputs": [
    {
     "name": "stdout",
     "output_type": "stream",
     "text": [
      "1431.4\n",
      "161.21488765\n",
      "27.3701529935\n",
      "0.24576858845\n"
     ]
    }
   ],
   "source": [
    "#Case 3\n",
    "episodes_to_converge = []\n",
    "performance = []\n",
    "for k in range(10):\n",
    "    myScores = calculateQ_earlystop(eps=0.9, lamb=0.001, alpha=0.999, gamma=0.7)\n",
    "    episodes_to_converge.append(len(myScores))\n",
    "    performance.append(myScores[-1])\n",
    "    \n",
    "print(np.mean(episodes_to_converge))\n",
    "print(np.std(episodes_to_converge))\n",
    "print(np.mean(performance))\n",
    "print(np.std(performance))"
   ]
  },
  {
   "cell_type": "code",
   "execution_count": 27,
   "metadata": {},
   "outputs": [
    {
     "name": "stdout",
     "output_type": "stream",
     "text": [
      "1437.8\n",
      "293.940742327\n",
      "24.0723596223\n",
      "0.264245282125\n"
     ]
    }
   ],
   "source": [
    "#Case 4\n",
    "episodes_to_converge = []\n",
    "performance = []\n",
    "for k in range(10):\n",
    "    myScores = calculateQ_earlystop(eps=0.9, lamb=0.001, alpha=0.001, gamma=0.7)\n",
    "    episodes_to_converge.append(len(myScores))\n",
    "    performance.append(myScores[-1])\n",
    "    \n",
    "print(np.mean(episodes_to_converge))\n",
    "print(np.std(episodes_to_converge))\n",
    "print(np.mean(performance))\n",
    "print(np.std(performance))"
   ]
  },
  {
   "cell_type": "code",
   "execution_count": 28,
   "metadata": {},
   "outputs": [
    {
     "name": "stdout",
     "output_type": "stream",
     "text": [
      "1443.3\n",
      "114.049156069\n",
      "27.3025665145\n",
      "0.287849328577\n"
     ]
    }
   ],
   "source": [
    "#Case 5\n",
    "episodes_to_converge = []\n",
    "performance = []\n",
    "for k in range(10):\n",
    "    myScores = calculateQ_earlystop(eps=0.9, lamb=0.001, alpha=0.5, gamma=0.999)\n",
    "    episodes_to_converge.append(len(myScores))\n",
    "    performance.append(myScores[-1])\n",
    "    \n",
    "print(np.mean(episodes_to_converge))\n",
    "print(np.std(episodes_to_converge))\n",
    "print(np.mean(performance))\n",
    "print(np.std(performance))"
   ]
  },
  {
   "cell_type": "code",
   "execution_count": 29,
   "metadata": {},
   "outputs": [
    {
     "name": "stdout",
     "output_type": "stream",
     "text": [
      "1523.7\n",
      "167.335620834\n",
      "24.1658536811\n",
      "0.265626712425\n"
     ]
    }
   ],
   "source": [
    "#Case 6\n",
    "episodes_to_converge = []\n",
    "performance = []\n",
    "for k in range(10):\n",
    "    myScores = calculateQ_earlystop(eps=0.9, lamb=0.001, alpha=0.5, gamma=0.001)\n",
    "    episodes_to_converge.append(len(myScores))\n",
    "    performance.append(myScores[-1])\n",
    "    \n",
    "print(np.mean(episodes_to_converge))\n",
    "print(np.std(episodes_to_converge))\n",
    "print(np.mean(performance))\n",
    "print(np.std(performance))"
   ]
  },
  {
   "cell_type": "code",
   "execution_count": 30,
   "metadata": {},
   "outputs": [
    {
     "name": "stdout",
     "output_type": "stream",
     "text": [
      "1667.4\n",
      "117.706584353\n",
      "23.0574954595\n",
      "1.15884656865\n"
     ]
    }
   ],
   "source": [
    "#Case 7\n",
    "R = R2\n",
    "episodes_to_converge = []\n",
    "performance = []\n",
    "for k in range(10):\n",
    "    myScores = calculateQ_earlystop(eps=0.9, lamb=0.001, alpha=0.5, gamma=0.7)\n",
    "    episodes_to_converge.append(len(myScores))\n",
    "    performance.append(myScores[-1])\n",
    "    \n",
    "print(np.mean(episodes_to_converge))\n",
    "print(np.std(episodes_to_converge))\n",
    "print(np.mean(performance))\n",
    "print(np.std(performance))"
   ]
  },
  {
   "cell_type": "markdown",
   "metadata": {
    "collapsed": true
   },
   "source": [
    "### Advanced reinforcement learning technique - Sarsa"
   ]
  },
  {
   "cell_type": "code",
   "execution_count": 31,
   "metadata": {
    "collapsed": true
   },
   "outputs": [],
   "source": [
    "def calculateQ_sarsa(eps, lamb, alpha, gamma, episodes):\n",
    "    Q = np.zeros_like(R) # Resets the Q-matrix\n",
    "    scores = []\n",
    "    cumulative_reward = 0\n",
    "    step = 0\n",
    "\n",
    "    for epi in range(episodes):\n",
    "        # Initialize s:\n",
    "        state = np.random.randint(12) # Start with a random state from 0 to 11.\n",
    "        \n",
    "        # Choose a from s using policy derived from Q:\n",
    "        p = np.random.uniform() # Random number from 0 to 1. \n",
    "        if eps > p:\n",
    "            #Explore:\n",
    "            action = np.random.choice([num for num in range(12) if R[state, num] > -100])\n",
    "        else:\n",
    "            #Exploit:\n",
    "            mask = (R[state, :] > -100) # A neat masking trick that allows np.argmax to use conditionals!\n",
    "            subset_idx = np.argmax(Q[state, :][mask]) \n",
    "            action = np.arange(Q.shape[0])[mask][subset_idx]    \n",
    "        \n",
    "        while(True):\n",
    "            #Take action, observe r and next_state\n",
    "            next_state = action\n",
    "            \n",
    "            #Choose next_action from next_state using policy derived from Q:\n",
    "            p = np.random.uniform() # Random number from 0 to 1. \n",
    "            if eps > p:\n",
    "                #Explore:\n",
    "                next_action = np.random.choice([num for num in range(12) if R[next_state, num] > -100])\n",
    "            else:\n",
    "                #Exploit:\n",
    "                mask = (R[next_state, :] > -100) # A neat masking trick that allows np.argmax to use conditionals!\n",
    "                subset_idx = np.argmax(Q[next_state, :][mask]) \n",
    "                next_action = np.arange(Q.shape[0])[mask][subset_idx]\n",
    "            \n",
    "            #Update Q, note we don't use argmax:\n",
    "            Q[state, action] += alpha* (R[state, action] + gamma * (Q[next_state, next_action]) - Q[state, action])\n",
    "            cumulative_reward += R[state,action]\n",
    "            step += 1\n",
    "            eps = eps * (1 - lamb)\n",
    "            if state == 11:\n",
    "                score = cumulative_reward/step\n",
    "                scores.append(score)\n",
    "                break\n",
    "                \n",
    "            #Update state and action:\n",
    "            state = next_state\n",
    "            action = next_action\n",
    "            \n",
    "    Q = np.array([round(num) for li in Q for num in li])\n",
    "    Q = Q.reshape((12,12))\n",
    "    return Q, scores"
   ]
  },
  {
   "cell_type": "code",
   "execution_count": 32,
   "metadata": {
    "collapsed": true
   },
   "outputs": [],
   "source": [
    "# Reset R-matrix\n",
    "R = R1\n"
   ]
  },
  {
   "cell_type": "code",
   "execution_count": 33,
   "metadata": {},
   "outputs": [
    {
     "data": {
      "image/png": "[encoded data removed]",
      "text/plain": [
       "<matplotlib.figure.Figure at 0x1176bf400>"
      ]
     },
     "metadata": {},
     "output_type": "display_data"
    },
    {
     "name": "stdout",
     "output_type": "stream",
     "text": [
      "0->1->6->9->11\n",
      "1->6->9->11\n",
      "2->7->9->11\n",
      "3->9->11\n",
      "4->9->11\n",
      "5->9->11\n",
      "6->9->11\n",
      "7->9->11\n",
      "8->11\n",
      "9->11\n",
      "10->11\n",
      "11\n"
     ]
    }
   ],
   "source": [
    "#Case 0\n",
    "myQ, myScores = calculateQ_sarsa(eps=0.9, lamb=0.001, alpha=0.5, gamma=0.7, episodes=3000)\n",
    "plt.plot(myScores)\n",
    "plt.title('eps=0.9, lamb=0.001, alpha=0.5, gamma=0.7')\n",
    "plt.xlabel('Episodes')\n",
    "plt.ylabel('Cumulative reward/steps')\n",
    "plt.ylim(20,30)\n",
    "plt.show()\n",
    "paths = calculatePaths(myQ)\n",
    "for start_spot in range(12):\n",
    "    print(paths[start_spot])"
   ]
  },
  {
   "cell_type": "code",
   "execution_count": 34,
   "metadata": {},
   "outputs": [
    {
     "data": {
      "image/png": "[encoded data removed]",
      "text/plain": [
       "<matplotlib.figure.Figure at 0x1175c8a90>"
      ]
     },
     "metadata": {},
     "output_type": "display_data"
    },
    {
     "name": "stdout",
     "output_type": "stream",
     "text": [
      "0->6->11\n",
      "1->10->11\n",
      "2->7->11\n",
      "3->11\n",
      "4->11\n",
      "5->11\n",
      "6->11\n",
      "7->11\n",
      "8->11\n",
      "9->11\n",
      "10->11\n",
      "11\n"
     ]
    }
   ],
   "source": [
    "R = R2\n",
    "myQ, myScores = calculateQ_sarsa(eps=0.9, lamb=0.001, alpha=0.5, gamma=0.7, episodes=3000)\n",
    "plt.plot(myScores)\n",
    "plt.title('eps=0.9, lamb=0.001, alpha=0.5, gamma=0.7')\n",
    "plt.xlabel('Episodes')\n",
    "plt.ylabel('Cumulative reward/steps')\n",
    "plt.ylim(0,25)\n",
    "plt.show()\n",
    "paths = calculatePaths(myQ)\n",
    "for start_spot in range(12):\n",
    "    print(paths[start_spot])"
   ]
  },
  {
   "cell_type": "code",
   "execution_count": 35,
   "metadata": {
    "collapsed": true
   },
   "outputs": [],
   "source": [
    "def calculateQ_sarsa_earlystop(eps, lamb, alpha, gamma):\n",
    "    Q = np.zeros_like(R) # Resets the Q-matrix\n",
    "    scores = list(range(1,11))\n",
    "    cumulative_reward = 0\n",
    "    step = 0\n",
    "\n",
    "    while np.var(scores[-11:-1]) > 0.00001:\n",
    "        # Initialize s:\n",
    "        state = np.random.randint(12) # Start with a random state from 0 to 11.\n",
    "        \n",
    "        # Choose a from s using policy derived from Q:\n",
    "        p = np.random.uniform() # Random number from 0 to 1. \n",
    "        if eps > p:\n",
    "            #Explore:\n",
    "            action = np.random.choice([num for num in range(12) if R[state, num] > -100])\n",
    "        else:\n",
    "            #Exploit:\n",
    "            mask = (R[state, :] > -100) # A neat masking trick that allows np.argmax to use conditionals!\n",
    "            subset_idx = np.argmax(Q[state, :][mask]) \n",
    "            action = np.arange(Q.shape[0])[mask][subset_idx]    \n",
    "        \n",
    "        while(True):\n",
    "            #Take action, observe r and next_state\n",
    "            next_state = action\n",
    "            \n",
    "            #Choose next_action from next_state using policy derived from Q:\n",
    "            p = np.random.uniform() # Random number from 0 to 1. \n",
    "            if eps > p:\n",
    "                #Explore:\n",
    "                next_action = np.random.choice([num for num in range(12) if R[next_state, num] > -100])\n",
    "            else:\n",
    "                #Exploit:\n",
    "                mask = (R[next_state, :] > -100) # A neat masking trick that allows np.argmax to use conditionals!\n",
    "                subset_idx = np.argmax(Q[next_state, :][mask]) \n",
    "                next_action = np.arange(Q.shape[0])[mask][subset_idx]\n",
    "            \n",
    "            #Update Q, note we don't use argmax:\n",
    "            Q[state, action] += alpha* (R[state, action] + gamma * (Q[next_state, next_action]) - Q[state, action])\n",
    "            cumulative_reward += R[state,action]\n",
    "            step += 1\n",
    "            eps = eps * (1 - lamb)\n",
    "            if state == 11:\n",
    "                score = cumulative_reward/step\n",
    "                scores.append(score)\n",
    "                break\n",
    "                \n",
    "            #Update state and action:\n",
    "            state = next_state\n",
    "            action = next_action\n",
    "            \n",
    "    Q = np.array([round(num) for li in Q for num in li])\n",
    "    Q = Q.reshape((12,12))\n",
    "    return scores"
   ]
  },
  {
   "cell_type": "markdown",
   "metadata": {},
   "source": [
    "### Experiment on Q-learning vs SARSA:\n",
    "\n",
    "Again we implement early stopping and conduct 10 trials. We compare case 0 (the base case) and case 7 (base case, with updated R-matrix) for both algorithms."
   ]
  },
  {
   "cell_type": "code",
   "execution_count": 36,
   "metadata": {},
   "outputs": [
    {
     "name": "stdout",
     "output_type": "stream",
     "text": [
      "1596.0\n",
      "234.665293557\n",
      "24.1301692496\n",
      "0.278844095159\n"
     ]
    }
   ],
   "source": [
    "R = R1\n",
    "Q = np.zeros_like(R)\n",
    "episodes_to_converge = []\n",
    "performance = []\n",
    "for k in range(10):\n",
    "    myScores = calculateQ_sarsa_earlystop(eps=0.9, lamb=0.001, alpha=0.5, gamma=0.001)\n",
    "    episodes_to_converge.append(len(myScores))\n",
    "    performance.append(myScores[-1])\n",
    "    \n",
    "print(np.mean(episodes_to_converge))\n",
    "print(np.std(episodes_to_converge))\n",
    "print(np.mean(performance))\n",
    "print(np.std(performance))"
   ]
  },
  {
   "cell_type": "code",
   "execution_count": 37,
   "metadata": {},
   "outputs": [
    {
     "name": "stdout",
     "output_type": "stream",
     "text": [
      "1591.4\n",
      "182.575025674\n",
      "18.7945662504\n",
      "0.713317533954\n"
     ]
    }
   ],
   "source": [
    "R = R2\n",
    "Q = np.zeros_like(R)\n",
    "episodes_to_converge = []\n",
    "performance = []\n",
    "for k in range(10):\n",
    "    myScores = calculateQ_sarsa_earlystop(eps=0.9, lamb=0.001, alpha=0.5, gamma=0.001)\n",
    "    episodes_to_converge.append(len(myScores))\n",
    "    performance.append(myScores[-1])\n",
    "    \n",
    "print(np.mean(episodes_to_converge))\n",
    "print(np.std(episodes_to_converge))\n",
    "print(np.mean(performance))\n",
    "print(np.std(performance))"
   ]
  }
 ],
 "metadata": {
  "kernelspec": {
   "display_name": "Python 3",
   "language": "python",
   "name": "python3"
  },
  "language_info": {
   "codemirror_mode": {
    "name": "ipython",
    "version": 3
   },
   "file_extension": ".py",
   "mimetype": "text/x-python",
   "name": "python",
   "nbconvert_exporter": "python",
   "pygments_lexer": "ipython3",
   "version": "3.6.3"
  }
 },
 "nbformat": 4,
 "nbformat_minor": 2
}
